{
 "cells": [
  {
   "cell_type": "code",
   "execution_count": 1,
   "id": "4e063fe3",
   "metadata": {
    "ExecuteTime": {
     "end_time": "2023-04-28T17:29:27.807397Z",
     "start_time": "2023-04-28T17:29:23.021020Z"
    }
   },
   "outputs": [
    {
     "name": "stderr",
     "output_type": "stream",
     "text": [
      "C:\\Users\\huzef\\anaconda3\\envs\\pytorch_cuda_env\\lib\\site-packages\\tqdm\\auto.py:22: TqdmWarning: IProgress not found. Please update jupyter and ipywidgets. See https://ipywidgets.readthedocs.io/en/stable/user_install.html\n",
      "  from .autonotebook import tqdm as notebook_tqdm\n"
     ]
    }
   ],
   "source": [
    "import pandas as pd\n",
    "import numpy as np\n",
    "\n",
    "import re\n",
    "import nltk\n",
    "from nltk.corpus import stopwords\n",
    "from nltk.stem import WordNetLemmatizer\n",
    "\n",
    "from sentence_transformers import SentenceTransformer\n",
    "\n",
    "from sklearn.model_selection import train_test_split"
   ]
  },
  {
   "cell_type": "code",
   "execution_count": 22,
   "id": "55fdea5b",
   "metadata": {
    "ExecuteTime": {
     "end_time": "2023-04-28T17:38:23.899710Z",
     "start_time": "2023-04-28T17:38:23.881078Z"
    }
   },
   "outputs": [],
   "source": [
    "data=pd.read_csv('assignment_B.csv')"
   ]
  },
  {
   "cell_type": "code",
   "execution_count": 23,
   "id": "55cafb81",
   "metadata": {
    "ExecuteTime": {
     "end_time": "2023-04-28T17:38:24.176300Z",
     "start_time": "2023-04-28T17:38:24.168206Z"
    }
   },
   "outputs": [],
   "source": [
    "# combine zp, food,to miscellaneous tag\n",
    "data['tags'] = data['tags'].replace(['zp', 'food'], 'miscellaneous')\n"
   ]
  },
  {
   "cell_type": "code",
   "execution_count": 24,
   "id": "d158775f",
   "metadata": {
    "ExecuteTime": {
     "end_time": "2023-04-28T17:38:24.456275Z",
     "start_time": "2023-04-28T17:38:24.444202Z"
    }
   },
   "outputs": [
    {
     "data": {
      "text/plain": [
       "work             382\n",
       "emotional        347\n",
       "money             99\n",
       "medical           99\n",
       "family            64\n",
       "miscellaneous      9\n",
       "Name: tags, dtype: int64"
      ]
     },
     "execution_count": 24,
     "metadata": {},
     "output_type": "execute_result"
    }
   ],
   "source": [
    "#distribution of classes\n",
    "data[\"tags\"].value_counts()"
   ]
  },
  {
   "cell_type": "code",
   "execution_count": 25,
   "id": "bd8ca71e",
   "metadata": {
    "ExecuteTime": {
     "end_time": "2023-04-28T17:38:28.352335Z",
     "start_time": "2023-04-28T17:38:24.837083Z"
    }
   },
   "outputs": [],
   "source": [
    "#pre-process sentences\n",
    "def pre_process(text):\n",
    "    text = text.lower()\n",
    "    text = re.sub(r'\\W+', ' ', text)\n",
    "    words = nltk.word_tokenize(text)\n",
    "    words = [word for word in words if word not in stopwords.words('english')]\n",
    "    lemmatizer = WordNetLemmatizer()\n",
    "    words = [lemmatizer.lemmatize(word) for word in words]\n",
    "    return ' '.join(words)\n",
    "\n",
    "data['proc_text'] = data['text'].map(pre_process)\n"
   ]
  },
  {
   "cell_type": "code",
   "execution_count": 26,
   "id": "82850c0f",
   "metadata": {
    "ExecuteTime": {
     "end_time": "2023-04-28T17:38:28.709938Z",
     "start_time": "2023-04-28T17:38:28.695889Z"
    }
   },
   "outputs": [],
   "source": [
    "# Remove any rows with missing data\n",
    "data = data.dropna()"
   ]
  },
  {
   "cell_type": "code",
   "execution_count": 27,
   "id": "47dd2282",
   "metadata": {
    "ExecuteTime": {
     "end_time": "2023-04-28T17:38:29.746353Z",
     "start_time": "2023-04-28T17:38:29.008013Z"
    }
   },
   "outputs": [],
   "source": [
    "#Embed text into features\n",
    "model = SentenceTransformer('all-MiniLM-L6-v2')\n",
    "embeddings_text = model.encode(data['proc_text'])\n",
    "\n",
    "data['embeddings_text'] = list(embeddings_text)\n"
   ]
  },
  {
   "cell_type": "code",
   "execution_count": 67,
   "id": "5babde34",
   "metadata": {
    "ExecuteTime": {
     "end_time": "2023-04-28T18:01:08.073085Z",
     "start_time": "2023-04-28T18:01:08.055255Z"
    }
   },
   "outputs": [],
   "source": [
    "from sklearn.preprocessing import LabelEncoder\n",
    "label_encoder = LabelEncoder()\n",
    "data['encoded_tags']=label_encoder.fit_transform(data['tags'])\n"
   ]
  },
  {
   "cell_type": "code",
   "execution_count": 69,
   "id": "2505bf1f",
   "metadata": {
    "ExecuteTime": {
     "end_time": "2023-04-28T18:01:35.799976Z",
     "start_time": "2023-04-28T18:01:35.779908Z"
    }
   },
   "outputs": [],
   "source": [
    "from imblearn.over_sampling import SMOTE\n",
    "from sklearn.model_selection import train_test_split\n",
    "from sklearn.preprocessing import StandardScaler\n",
    "from sklearn.model_selection import train_test_split\n",
    "\n",
    "X = np.stack(data['embeddings_text'])\n",
    "y = data['encoded_tags'].values\n",
    "\n",
    "X_train, X_test, y_train, y_test = train_test_split(X, y, test_size=0.2, random_state=42, stratify=y)\n"
   ]
  },
  {
   "cell_type": "code",
   "execution_count": 71,
   "id": "15d518a4",
   "metadata": {
    "ExecuteTime": {
     "end_time": "2023-04-28T18:01:47.765816Z",
     "start_time": "2023-04-28T18:01:47.730299Z"
    }
   },
   "outputs": [],
   "source": [
    "smote = SMOTE(random_state=50)\n",
    "X_train_balanced, y_train_balanced = smote.fit_resample(X_train.reshape(-1, X_train.shape[-1]), y_train)\n",
    "\n",
    "# Scale the input features\n",
    "scaler = StandardScaler()\n",
    "X_train_scaled = scaler.fit_transform(X_train_balanced)\n",
    "X_test_scaled = scaler.transform(X_test)\n"
   ]
  },
  {
   "cell_type": "code",
   "execution_count": 114,
   "id": "0ec4d233",
   "metadata": {
    "ExecuteTime": {
     "end_time": "2023-04-28T18:21:15.472526Z",
     "start_time": "2023-04-28T18:21:15.319141Z"
    }
   },
   "outputs": [
    {
     "data": {
      "text/html": [
       "<style>#sk-container-id-18 {color: black;background-color: white;}#sk-container-id-18 pre{padding: 0;}#sk-container-id-18 div.sk-toggleable {background-color: white;}#sk-container-id-18 label.sk-toggleable__label {cursor: pointer;display: block;width: 100%;margin-bottom: 0;padding: 0.3em;box-sizing: border-box;text-align: center;}#sk-container-id-18 label.sk-toggleable__label-arrow:before {content: \"▸\";float: left;margin-right: 0.25em;color: #696969;}#sk-container-id-18 label.sk-toggleable__label-arrow:hover:before {color: black;}#sk-container-id-18 div.sk-estimator:hover label.sk-toggleable__label-arrow:before {color: black;}#sk-container-id-18 div.sk-toggleable__content {max-height: 0;max-width: 0;overflow: hidden;text-align: left;background-color: #f0f8ff;}#sk-container-id-18 div.sk-toggleable__content pre {margin: 0.2em;color: black;border-radius: 0.25em;background-color: #f0f8ff;}#sk-container-id-18 input.sk-toggleable__control:checked~div.sk-toggleable__content {max-height: 200px;max-width: 100%;overflow: auto;}#sk-container-id-18 input.sk-toggleable__control:checked~label.sk-toggleable__label-arrow:before {content: \"▾\";}#sk-container-id-18 div.sk-estimator input.sk-toggleable__control:checked~label.sk-toggleable__label {background-color: #d4ebff;}#sk-container-id-18 div.sk-label input.sk-toggleable__control:checked~label.sk-toggleable__label {background-color: #d4ebff;}#sk-container-id-18 input.sk-hidden--visually {border: 0;clip: rect(1px 1px 1px 1px);clip: rect(1px, 1px, 1px, 1px);height: 1px;margin: -1px;overflow: hidden;padding: 0;position: absolute;width: 1px;}#sk-container-id-18 div.sk-estimator {font-family: monospace;background-color: #f0f8ff;border: 1px dotted black;border-radius: 0.25em;box-sizing: border-box;margin-bottom: 0.5em;}#sk-container-id-18 div.sk-estimator:hover {background-color: #d4ebff;}#sk-container-id-18 div.sk-parallel-item::after {content: \"\";width: 100%;border-bottom: 1px solid gray;flex-grow: 1;}#sk-container-id-18 div.sk-label:hover label.sk-toggleable__label {background-color: #d4ebff;}#sk-container-id-18 div.sk-serial::before {content: \"\";position: absolute;border-left: 1px solid gray;box-sizing: border-box;top: 0;bottom: 0;left: 50%;z-index: 0;}#sk-container-id-18 div.sk-serial {display: flex;flex-direction: column;align-items: center;background-color: white;padding-right: 0.2em;padding-left: 0.2em;position: relative;}#sk-container-id-18 div.sk-item {position: relative;z-index: 1;}#sk-container-id-18 div.sk-parallel {display: flex;align-items: stretch;justify-content: center;background-color: white;position: relative;}#sk-container-id-18 div.sk-item::before, #sk-container-id-18 div.sk-parallel-item::before {content: \"\";position: absolute;border-left: 1px solid gray;box-sizing: border-box;top: 0;bottom: 0;left: 50%;z-index: -1;}#sk-container-id-18 div.sk-parallel-item {display: flex;flex-direction: column;z-index: 1;position: relative;background-color: white;}#sk-container-id-18 div.sk-parallel-item:first-child::after {align-self: flex-end;width: 50%;}#sk-container-id-18 div.sk-parallel-item:last-child::after {align-self: flex-start;width: 50%;}#sk-container-id-18 div.sk-parallel-item:only-child::after {width: 0;}#sk-container-id-18 div.sk-dashed-wrapped {border: 1px dashed gray;margin: 0 0.4em 0.5em 0.4em;box-sizing: border-box;padding-bottom: 0.4em;background-color: white;}#sk-container-id-18 div.sk-label label {font-family: monospace;font-weight: bold;display: inline-block;line-height: 1.2em;}#sk-container-id-18 div.sk-label-container {text-align: center;}#sk-container-id-18 div.sk-container {/* jupyter's `normalize.less` sets `[hidden] { display: none; }` but bootstrap.min.css set `[hidden] { display: none !important; }` so we also need the `!important` here to be able to override the default hidden behavior on the sphinx rendered scikit-learn.org. See: https://github.com/scikit-learn/scikit-learn/issues/21755 */display: inline-block !important;position: relative;}#sk-container-id-18 div.sk-text-repr-fallback {display: none;}</style><div id=\"sk-container-id-18\" class=\"sk-top-container\"><div class=\"sk-text-repr-fallback\"><pre>SVC(class_weight=&#x27;balanced&#x27;, degree=2)</pre><b>In a Jupyter environment, please rerun this cell to show the HTML representation or trust the notebook. <br />On GitHub, the HTML representation is unable to render, please try loading this page with nbviewer.org.</b></div><div class=\"sk-container\" hidden><div class=\"sk-item\"><div class=\"sk-estimator sk-toggleable\"><input class=\"sk-toggleable__control sk-hidden--visually\" id=\"sk-estimator-id-22\" type=\"checkbox\" checked><label for=\"sk-estimator-id-22\" class=\"sk-toggleable__label sk-toggleable__label-arrow\">SVC</label><div class=\"sk-toggleable__content\"><pre>SVC(class_weight=&#x27;balanced&#x27;, degree=2)</pre></div></div></div></div></div>"
      ],
      "text/plain": [
       "SVC(class_weight='balanced', degree=2)"
      ]
     },
     "execution_count": 114,
     "metadata": {},
     "output_type": "execute_result"
    }
   ],
   "source": [
    "from sklearn.svm import SVC\n",
    "\n",
    "# Create an SVM model with a specified kernel (e.g., 'linear', 'poly', 'rbf', or 'sigmoid')\n",
    "clf = SVC(kernel='rbf',degree=2, class_weight='balanced')\n",
    "\n",
    "# Fit the model to the training data\n",
    "clf.fit(X_train_scaled, y_train_balanced)"
   ]
  },
  {
   "cell_type": "code",
   "execution_count": 116,
   "id": "274c6aab",
   "metadata": {
    "ExecuteTime": {
     "end_time": "2023-04-28T18:21:48.472511Z",
     "start_time": "2023-04-28T18:21:48.425943Z"
    }
   },
   "outputs": [
    {
     "name": "stdout",
     "output_type": "stream",
     "text": [
      "Accuracy: 0.72\n",
      "Classification Report:\n",
      "              precision    recall  f1-score   support\n",
      "\n",
      "           0       0.72      0.78      0.75        69\n",
      "           1       0.33      0.31      0.32        13\n",
      "           2       0.64      0.45      0.53        20\n",
      "           3       0.00      0.00      0.00         2\n",
      "           4       0.68      0.65      0.67        20\n",
      "           5       0.80      0.84      0.82        76\n",
      "\n",
      "    accuracy                           0.72       200\n",
      "   macro avg       0.53      0.51      0.51       200\n",
      "weighted avg       0.71      0.72      0.71       200\n",
      "\n"
     ]
    },
    {
     "name": "stderr",
     "output_type": "stream",
     "text": [
      "C:\\Users\\huzef\\anaconda3\\envs\\pytorch_cuda_env\\lib\\site-packages\\sklearn\\metrics\\_classification.py:1334: UndefinedMetricWarning: Precision and F-score are ill-defined and being set to 0.0 in labels with no predicted samples. Use `zero_division` parameter to control this behavior.\n",
      "  _warn_prf(average, modifier, msg_start, len(result))\n",
      "C:\\Users\\huzef\\anaconda3\\envs\\pytorch_cuda_env\\lib\\site-packages\\sklearn\\metrics\\_classification.py:1334: UndefinedMetricWarning: Precision and F-score are ill-defined and being set to 0.0 in labels with no predicted samples. Use `zero_division` parameter to control this behavior.\n",
      "  _warn_prf(average, modifier, msg_start, len(result))\n",
      "C:\\Users\\huzef\\anaconda3\\envs\\pytorch_cuda_env\\lib\\site-packages\\sklearn\\metrics\\_classification.py:1334: UndefinedMetricWarning: Precision and F-score are ill-defined and being set to 0.0 in labels with no predicted samples. Use `zero_division` parameter to control this behavior.\n",
      "  _warn_prf(average, modifier, msg_start, len(result))\n"
     ]
    }
   ],
   "source": [
    "y_pred = clf.predict(X_test_scaled)\n",
    "\n",
    "print(\"Accuracy:\", accuracy_score(y_test, y_pred))\n",
    "print(\"Classification Report:\")\n",
    "print(classification_report(y_test, y_pred))"
   ]
  },
  {
   "cell_type": "code",
   "execution_count": 131,
   "id": "230cfb42",
   "metadata": {
    "ExecuteTime": {
     "end_time": "2023-04-28T18:31:21.632247Z",
     "start_time": "2023-04-28T18:31:21.625248Z"
    }
   },
   "outputs": [],
   "source": [
    "# Assign weights based on the inverse of the class frequencies\n",
    "class_weights = sum(y_train) / (len(set(y_train)) * np.bincount(y_train))\n",
    "sample_weights = class_weights[y_train]"
   ]
  },
  {
   "cell_type": "code",
   "execution_count": 172,
   "id": "68b90eb6",
   "metadata": {
    "ExecuteTime": {
     "end_time": "2023-04-28T18:57:17.097241Z",
     "start_time": "2023-04-28T18:57:17.035786Z"
    }
   },
   "outputs": [
    {
     "data": {
      "text/html": [
       "<style>#sk-container-id-32 {color: black;background-color: white;}#sk-container-id-32 pre{padding: 0;}#sk-container-id-32 div.sk-toggleable {background-color: white;}#sk-container-id-32 label.sk-toggleable__label {cursor: pointer;display: block;width: 100%;margin-bottom: 0;padding: 0.3em;box-sizing: border-box;text-align: center;}#sk-container-id-32 label.sk-toggleable__label-arrow:before {content: \"▸\";float: left;margin-right: 0.25em;color: #696969;}#sk-container-id-32 label.sk-toggleable__label-arrow:hover:before {color: black;}#sk-container-id-32 div.sk-estimator:hover label.sk-toggleable__label-arrow:before {color: black;}#sk-container-id-32 div.sk-toggleable__content {max-height: 0;max-width: 0;overflow: hidden;text-align: left;background-color: #f0f8ff;}#sk-container-id-32 div.sk-toggleable__content pre {margin: 0.2em;color: black;border-radius: 0.25em;background-color: #f0f8ff;}#sk-container-id-32 input.sk-toggleable__control:checked~div.sk-toggleable__content {max-height: 200px;max-width: 100%;overflow: auto;}#sk-container-id-32 input.sk-toggleable__control:checked~label.sk-toggleable__label-arrow:before {content: \"▾\";}#sk-container-id-32 div.sk-estimator input.sk-toggleable__control:checked~label.sk-toggleable__label {background-color: #d4ebff;}#sk-container-id-32 div.sk-label input.sk-toggleable__control:checked~label.sk-toggleable__label {background-color: #d4ebff;}#sk-container-id-32 input.sk-hidden--visually {border: 0;clip: rect(1px 1px 1px 1px);clip: rect(1px, 1px, 1px, 1px);height: 1px;margin: -1px;overflow: hidden;padding: 0;position: absolute;width: 1px;}#sk-container-id-32 div.sk-estimator {font-family: monospace;background-color: #f0f8ff;border: 1px dotted black;border-radius: 0.25em;box-sizing: border-box;margin-bottom: 0.5em;}#sk-container-id-32 div.sk-estimator:hover {background-color: #d4ebff;}#sk-container-id-32 div.sk-parallel-item::after {content: \"\";width: 100%;border-bottom: 1px solid gray;flex-grow: 1;}#sk-container-id-32 div.sk-label:hover label.sk-toggleable__label {background-color: #d4ebff;}#sk-container-id-32 div.sk-serial::before {content: \"\";position: absolute;border-left: 1px solid gray;box-sizing: border-box;top: 0;bottom: 0;left: 50%;z-index: 0;}#sk-container-id-32 div.sk-serial {display: flex;flex-direction: column;align-items: center;background-color: white;padding-right: 0.2em;padding-left: 0.2em;position: relative;}#sk-container-id-32 div.sk-item {position: relative;z-index: 1;}#sk-container-id-32 div.sk-parallel {display: flex;align-items: stretch;justify-content: center;background-color: white;position: relative;}#sk-container-id-32 div.sk-item::before, #sk-container-id-32 div.sk-parallel-item::before {content: \"\";position: absolute;border-left: 1px solid gray;box-sizing: border-box;top: 0;bottom: 0;left: 50%;z-index: -1;}#sk-container-id-32 div.sk-parallel-item {display: flex;flex-direction: column;z-index: 1;position: relative;background-color: white;}#sk-container-id-32 div.sk-parallel-item:first-child::after {align-self: flex-end;width: 50%;}#sk-container-id-32 div.sk-parallel-item:last-child::after {align-self: flex-start;width: 50%;}#sk-container-id-32 div.sk-parallel-item:only-child::after {width: 0;}#sk-container-id-32 div.sk-dashed-wrapped {border: 1px dashed gray;margin: 0 0.4em 0.5em 0.4em;box-sizing: border-box;padding-bottom: 0.4em;background-color: white;}#sk-container-id-32 div.sk-label label {font-family: monospace;font-weight: bold;display: inline-block;line-height: 1.2em;}#sk-container-id-32 div.sk-label-container {text-align: center;}#sk-container-id-32 div.sk-container {/* jupyter's `normalize.less` sets `[hidden] { display: none; }` but bootstrap.min.css set `[hidden] { display: none !important; }` so we also need the `!important` here to be able to override the default hidden behavior on the sphinx rendered scikit-learn.org. See: https://github.com/scikit-learn/scikit-learn/issues/21755 */display: inline-block !important;position: relative;}#sk-container-id-32 div.sk-text-repr-fallback {display: none;}</style><div id=\"sk-container-id-32\" class=\"sk-top-container\"><div class=\"sk-text-repr-fallback\"><pre>LinearSVC(C=0.1, class_weight=&#x27;balanced&#x27;, fit_intercept=False)</pre><b>In a Jupyter environment, please rerun this cell to show the HTML representation or trust the notebook. <br />On GitHub, the HTML representation is unable to render, please try loading this page with nbviewer.org.</b></div><div class=\"sk-container\" hidden><div class=\"sk-item\"><div class=\"sk-estimator sk-toggleable\"><input class=\"sk-toggleable__control sk-hidden--visually\" id=\"sk-estimator-id-36\" type=\"checkbox\" checked><label for=\"sk-estimator-id-36\" class=\"sk-toggleable__label sk-toggleable__label-arrow\">LinearSVC</label><div class=\"sk-toggleable__content\"><pre>LinearSVC(C=0.1, class_weight=&#x27;balanced&#x27;, fit_intercept=False)</pre></div></div></div></div></div>"
      ],
      "text/plain": [
       "LinearSVC(C=0.1, class_weight='balanced', fit_intercept=False)"
      ]
     },
     "execution_count": 172,
     "metadata": {},
     "output_type": "execute_result"
    }
   ],
   "source": [
    "from sklearn.svm import LinearSVC\n",
    "\n",
    "clf = LinearSVC(multi_class='ovr', C= 0.1,loss= 'squared_hinge',class_weight = 'balanced', fit_intercept= False)  # or multi_class='ovo'\n",
    "clf.fit(X_train, y_train)"
   ]
  },
  {
   "cell_type": "code",
   "execution_count": 173,
   "id": "8f2a10d5",
   "metadata": {
    "ExecuteTime": {
     "end_time": "2023-04-28T18:57:19.363986Z",
     "start_time": "2023-04-28T18:57:19.342895Z"
    }
   },
   "outputs": [
    {
     "name": "stdout",
     "output_type": "stream",
     "text": [
      "Accuracy: 0.68\n",
      "Classification Report:\n",
      "              precision    recall  f1-score   support\n",
      "\n",
      "           0       0.77      0.67      0.71        69\n",
      "           1       0.22      0.31      0.26        13\n",
      "           2       0.52      0.60      0.56        20\n",
      "           3       0.50      0.50      0.50         2\n",
      "           4       0.58      0.70      0.64        20\n",
      "           5       0.81      0.78      0.79        76\n",
      "\n",
      "    accuracy                           0.68       200\n",
      "   macro avg       0.57      0.59      0.58       200\n",
      "weighted avg       0.70      0.68      0.69       200\n",
      "\n"
     ]
    }
   ],
   "source": [
    "y_pred = clf.predict(X_test)\n",
    "\n",
    "print(\"Accuracy:\", accuracy_score(y_test, y_pred))\n",
    "print(\"Classification Report:\")\n",
    "print(classification_report(y_test, y_pred))"
   ]
  },
  {
   "cell_type": "code",
   "execution_count": 162,
   "id": "6af0bc7a",
   "metadata": {
    "ExecuteTime": {
     "end_time": "2023-04-28T18:46:41.902136Z",
     "start_time": "2023-04-28T18:46:31.906337Z"
    }
   },
   "outputs": [
    {
     "name": "stdout",
     "output_type": "stream",
     "text": [
      "Fitting 5 folds for each of 56 candidates, totalling 280 fits\n",
      "Best Parameters: {'C': 0.1, 'class_weight': 'balanced', 'fit_intercept': False, 'loss': 'squared_hinge'}\n",
      "Best Score: 0.7803669494568232\n",
      "Accuracy: 0.68\n",
      "Classification Report:\n",
      "               precision    recall  f1-score   support\n",
      "\n",
      "           0       0.77      0.67      0.71        69\n",
      "           1       0.22      0.31      0.26        13\n",
      "           2       0.52      0.60      0.56        20\n",
      "           3       0.50      0.50      0.50         2\n",
      "           4       0.58      0.70      0.64        20\n",
      "           5       0.81      0.78      0.79        76\n",
      "\n",
      "    accuracy                           0.68       200\n",
      "   macro avg       0.57      0.59      0.58       200\n",
      "weighted avg       0.70      0.68      0.69       200\n",
      "\n"
     ]
    }
   ],
   "source": [
    "\n",
    "from sklearn.model_selection import GridSearchCV\n",
    "\n",
    "# Create a LinearSVC model\n",
    "svc = LinearSVC(multi_class='ovr')\n",
    "\n",
    "# Define the hyperparameter search space\n",
    "param_grid = {\n",
    "    'C': np.logspace(-3, 3, 7),\n",
    "    'fit_intercept': [True, False],\n",
    "    'class_weight': [None, 'balanced'],\n",
    "    'loss': ['hinge', 'squared_hinge'],\n",
    "}\n",
    "\n",
    "# Create a GridSearchCV object\n",
    "grid_search = GridSearchCV(svc, param_grid, scoring='f1_weighted', cv=5, verbose=1, n_jobs=-1)\n",
    "\n",
    "# Perform hyperparameter search and fit the model\n",
    "grid_search.fit(X_train, y_train)\n",
    "\n",
    "# Print the best parameters and score\n",
    "print(\"Best Parameters:\", grid_search.best_params_)\n",
    "print(\"Best Score:\", grid_search.best_score_)\n",
    "\n",
    "# Evaluate the model with the best hyperparameters\n",
    "best_svc = grid_search.best_estimator_\n",
    "y_pred = best_svc.predict(X_test)\n",
    "acc = accuracy_score(y_test, y_pred)\n",
    "report = classification_report(y_test, y_pred)\n",
    "\n",
    "print(\"Accuracy:\", acc)\n",
    "print(\"Classification Report:\\n\", report)"
   ]
  },
  {
   "cell_type": "code",
   "execution_count": 158,
   "id": "63d4c11c",
   "metadata": {
    "ExecuteTime": {
     "end_time": "2023-04-28T18:43:39.304056Z",
     "start_time": "2023-04-28T18:43:39.298540Z"
    }
   },
   "outputs": [
    {
     "data": {
      "text/plain": [
       "['explained_variance',\n",
       " 'r2',\n",
       " 'max_error',\n",
       " 'matthews_corrcoef',\n",
       " 'neg_median_absolute_error',\n",
       " 'neg_mean_absolute_error',\n",
       " 'neg_mean_absolute_percentage_error',\n",
       " 'neg_mean_squared_error',\n",
       " 'neg_mean_squared_log_error',\n",
       " 'neg_root_mean_squared_error',\n",
       " 'neg_mean_poisson_deviance',\n",
       " 'neg_mean_gamma_deviance',\n",
       " 'accuracy',\n",
       " 'top_k_accuracy',\n",
       " 'roc_auc',\n",
       " 'roc_auc_ovr',\n",
       " 'roc_auc_ovo',\n",
       " 'roc_auc_ovr_weighted',\n",
       " 'roc_auc_ovo_weighted',\n",
       " 'balanced_accuracy',\n",
       " 'average_precision',\n",
       " 'neg_log_loss',\n",
       " 'neg_brier_score',\n",
       " 'adjusted_rand_score',\n",
       " 'rand_score',\n",
       " 'homogeneity_score',\n",
       " 'completeness_score',\n",
       " 'v_measure_score',\n",
       " 'mutual_info_score',\n",
       " 'adjusted_mutual_info_score',\n",
       " 'normalized_mutual_info_score',\n",
       " 'fowlkes_mallows_score',\n",
       " 'precision',\n",
       " 'precision_macro',\n",
       " 'precision_micro',\n",
       " 'precision_samples',\n",
       " 'precision_weighted',\n",
       " 'recall',\n",
       " 'recall_macro',\n",
       " 'recall_micro',\n",
       " 'recall_samples',\n",
       " 'recall_weighted',\n",
       " 'f1',\n",
       " 'f1_macro',\n",
       " 'f1_micro',\n",
       " 'f1_samples',\n",
       " 'f1_weighted',\n",
       " 'jaccard',\n",
       " 'jaccard_macro',\n",
       " 'jaccard_micro',\n",
       " 'jaccard_samples',\n",
       " 'jaccard_weighted']"
      ]
     },
     "execution_count": 158,
     "metadata": {},
     "output_type": "execute_result"
    }
   ],
   "source": [
    "from sklearn.metrics import SCORERS\n",
    "\n",
    "available_scorers = list(SCORERS.keys())\n",
    "available_scorers"
   ]
  },
  {
   "cell_type": "code",
   "execution_count": 145,
   "id": "aa00b4e8",
   "metadata": {
    "ExecuteTime": {
     "end_time": "2023-04-28T18:35:18.452484Z",
     "start_time": "2023-04-28T18:35:16.774509Z"
    }
   },
   "outputs": [],
   "source": [
    "import xgboost as xgb\n",
    "\n",
    "# Create an XGBoost classifier\n",
    "clf = xgb.XGBClassifier(objective=\"multi:softmax\", num_class=6) \n",
    "# Train the classifier\n",
    "clf.fit(X_train, y_train, sample_weight=sample_weights)\n",
    "\n",
    "# Predict labels for the test set\n",
    "y_pred = clf.predict(X_test)"
   ]
  },
  {
   "cell_type": "code",
   "execution_count": 146,
   "id": "3e60e033",
   "metadata": {
    "ExecuteTime": {
     "end_time": "2023-04-28T18:35:19.023613Z",
     "start_time": "2023-04-28T18:35:19.010624Z"
    }
   },
   "outputs": [
    {
     "name": "stdout",
     "output_type": "stream",
     "text": [
      "Accuracy: 0.675\n",
      "Classification Report:\n",
      "              precision    recall  f1-score   support\n",
      "\n",
      "           0       0.70      0.70      0.70        69\n",
      "           1       0.25      0.23      0.24        13\n",
      "           2       0.58      0.55      0.56        20\n",
      "           3       0.00      0.00      0.00         2\n",
      "           4       0.70      0.70      0.70        20\n",
      "           5       0.74      0.78      0.76        76\n",
      "\n",
      "    accuracy                           0.68       200\n",
      "   macro avg       0.49      0.49      0.49       200\n",
      "weighted avg       0.66      0.68      0.67       200\n",
      "\n"
     ]
    },
    {
     "name": "stderr",
     "output_type": "stream",
     "text": [
      "C:\\Users\\huzef\\anaconda3\\envs\\pytorch_cuda_env\\lib\\site-packages\\sklearn\\metrics\\_classification.py:1334: UndefinedMetricWarning: Precision and F-score are ill-defined and being set to 0.0 in labels with no predicted samples. Use `zero_division` parameter to control this behavior.\n",
      "  _warn_prf(average, modifier, msg_start, len(result))\n",
      "C:\\Users\\huzef\\anaconda3\\envs\\pytorch_cuda_env\\lib\\site-packages\\sklearn\\metrics\\_classification.py:1334: UndefinedMetricWarning: Precision and F-score are ill-defined and being set to 0.0 in labels with no predicted samples. Use `zero_division` parameter to control this behavior.\n",
      "  _warn_prf(average, modifier, msg_start, len(result))\n",
      "C:\\Users\\huzef\\anaconda3\\envs\\pytorch_cuda_env\\lib\\site-packages\\sklearn\\metrics\\_classification.py:1334: UndefinedMetricWarning: Precision and F-score are ill-defined and being set to 0.0 in labels with no predicted samples. Use `zero_division` parameter to control this behavior.\n",
      "  _warn_prf(average, modifier, msg_start, len(result))\n"
     ]
    }
   ],
   "source": [
    "y_pred = clf.predict(X_test)\n",
    "\n",
    "print(\"Accuracy:\", accuracy_score(y_test, y_pred))\n",
    "print(\"Classification Report:\")\n",
    "print(classification_report(y_test, y_pred))"
   ]
  },
  {
   "cell_type": "code",
   "execution_count": 149,
   "id": "665d4eb1",
   "metadata": {
    "ExecuteTime": {
     "end_time": "2023-04-28T18:35:28.155093Z",
     "start_time": "2023-04-28T18:35:28.099766Z"
    }
   },
   "outputs": [
    {
     "name": "stdout",
     "output_type": "stream",
     "text": [
      "Predicted Label: ['money']\n",
      "Predicted Label: ['medical']\n"
     ]
    }
   ],
   "source": [
    "def predict_topic(text):\n",
    "    preprocessed_text = pre_process(text)\n",
    "    X_new = model.encode(preprocessed_text)\n",
    "    X_new_scaled = scaler.transform([X_new])\n",
    "    return clf.predict([X_new])\n",
    "\n",
    "input_text = \"financial loss, unable to survive\"\n",
    "predicted_label = predict_topic(input_text)\n",
    "print(\"Predicted Label:\", label_encoder.inverse_transform(predicted_label))\n",
    "\n",
    "input_text = \"hectic work unbearable stress\"\n",
    "predicted_label = predict_topic(input_text)\n",
    "print(\"Predicted Label:\", label_encoder.inverse_transform(predicted_label))"
   ]
  },
  {
   "cell_type": "code",
   "execution_count": null,
   "id": "8e8a17be",
   "metadata": {},
   "outputs": [],
   "source": []
  }
 ],
 "metadata": {
  "kernelspec": {
   "display_name": "pytorch-cuda-env",
   "language": "python",
   "name": "pytorch-cuda-env"
  },
  "language_info": {
   "codemirror_mode": {
    "name": "ipython",
    "version": 3
   },
   "file_extension": ".py",
   "mimetype": "text/x-python",
   "name": "python",
   "nbconvert_exporter": "python",
   "pygments_lexer": "ipython3",
   "version": "3.8.0"
  },
  "varInspector": {
   "cols": {
    "lenName": 16,
    "lenType": 16,
    "lenVar": 40
   },
   "kernels_config": {
    "python": {
     "delete_cmd_postfix": "",
     "delete_cmd_prefix": "del ",
     "library": "var_list.py",
     "varRefreshCmd": "print(var_dic_list())"
    },
    "r": {
     "delete_cmd_postfix": ") ",
     "delete_cmd_prefix": "rm(",
     "library": "var_list.r",
     "varRefreshCmd": "cat(var_dic_list()) "
    }
   },
   "types_to_exclude": [
    "module",
    "function",
    "builtin_function_or_method",
    "instance",
    "_Feature"
   ],
   "window_display": false
  }
 },
 "nbformat": 4,
 "nbformat_minor": 5
}
