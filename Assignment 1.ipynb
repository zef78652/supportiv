{
 "cells": [
  {
   "cell_type": "code",
   "execution_count": 2,
   "id": "6fe0c438",
   "metadata": {
    "ExecuteTime": {
     "end_time": "2023-04-28T03:43:15.125176Z",
     "start_time": "2023-04-28T03:43:11.634577Z"
    }
   },
   "outputs": [
    {
     "name": "stderr",
     "output_type": "stream",
     "text": [
      "C:\\Users\\huzef\\anaconda3\\envs\\pytorch_cuda_env\\lib\\site-packages\\tqdm\\auto.py:22: TqdmWarning: IProgress not found. Please update jupyter and ipywidgets. See https://ipywidgets.readthedocs.io/en/stable/user_install.html\n",
      "  from .autonotebook import tqdm as notebook_tqdm\n"
     ]
    }
   ],
   "source": [
    "import pandas as pd\n",
    "import numpy as np\n",
    "\n",
    "import re\n",
    "import nltk\n",
    "from nltk.corpus import stopwords\n",
    "from nltk.stem import WordNetLemmatizer\n",
    "\n",
    "from sentence_transformers import SentenceTransformer\n",
    "\n",
    "from sklearn.model_selection import train_test_split\n",
    "\n"
   ]
  },
  {
   "cell_type": "code",
   "execution_count": 51,
   "id": "0cd733dc",
   "metadata": {
    "ExecuteTime": {
     "end_time": "2023-04-28T04:34:31.757886Z",
     "start_time": "2023-04-28T04:34:31.735099Z"
    }
   },
   "outputs": [],
   "source": [
    "data=pd.read_csv('assignment_A.csv')"
   ]
  },
  {
   "cell_type": "code",
   "execution_count": 52,
   "id": "48068a33",
   "metadata": {
    "ExecuteTime": {
     "end_time": "2023-04-28T04:34:32.485216Z",
     "start_time": "2023-04-28T04:34:32.473998Z"
    },
    "scrolled": true
   },
   "outputs": [
    {
     "data": {
      "text/plain": [
       "0    2952\n",
       "1    1048\n",
       "Name: label, dtype: int64"
      ]
     },
     "execution_count": 52,
     "metadata": {},
     "output_type": "execute_result"
    }
   ],
   "source": [
    "#distribution of classes\n",
    "data[\"label\"].value_counts()"
   ]
  },
  {
   "cell_type": "code",
   "execution_count": 53,
   "id": "bc818937",
   "metadata": {
    "ExecuteTime": {
     "end_time": "2023-04-28T04:34:37.328280Z",
     "start_time": "2023-04-28T04:34:37.308854Z"
    }
   },
   "outputs": [],
   "source": [
    "data=data.dropna()"
   ]
  },
  {
   "cell_type": "code",
   "execution_count": 54,
   "id": "6eb6d4e5",
   "metadata": {
    "ExecuteTime": {
     "end_time": "2023-04-28T04:35:02.745677Z",
     "start_time": "2023-04-28T04:34:38.639030Z"
    }
   },
   "outputs": [],
   "source": [
    "#pre-process sentences\n",
    "def pre_process(text):\n",
    "    text = text.lower()\n",
    "    text = re.sub(r'\\W+', ' ', text)\n",
    "    words = nltk.word_tokenize(text)\n",
    "    words = [word for word in words if word not in stopwords.words('english')]\n",
    "    lemmatizer = WordNetLemmatizer()\n",
    "    words = [lemmatizer.lemmatize(word) for word in words]\n",
    "    return ' '.join(words)\n",
    "\n",
    "data['proc_sent1'] = data['sentence1'].map(pre_process)\n",
    "data['proc_sent2'] = data['sentence2'].map(pre_process)"
   ]
  },
  {
   "cell_type": "code",
   "execution_count": 55,
   "id": "4351594a",
   "metadata": {
    "ExecuteTime": {
     "end_time": "2023-04-28T04:35:10.285119Z",
     "start_time": "2023-04-28T04:35:02.996461Z"
    }
   },
   "outputs": [],
   "source": [
    "#Embed text into features\n",
    "model = SentenceTransformer('bert-base-nli-mean-tokens')\n",
    "embeddings_sentence1 = model.encode(data['proc_sent1'])\n",
    "embeddings_sentence2 = model.encode(data['proc_sent2'])\n",
    "\n",
    "data['embeddings_sentence1'] = list(embeddings_sentence1)\n",
    "data['embeddings_sentence2'] = list(embeddings_sentence2)\n",
    "data['combined_embeddings'] = data['embeddings_sentence1'] + data['embeddings_sentence2']"
   ]
  },
  {
   "cell_type": "code",
   "execution_count": 56,
   "id": "8048cae5",
   "metadata": {
    "ExecuteTime": {
     "end_time": "2023-04-28T04:35:10.623784Z",
     "start_time": "2023-04-28T04:35:10.611453Z"
    }
   },
   "outputs": [],
   "source": [
    "from sklearn.feature_extraction.text import CountVectorizer\n",
    "from sklearn.metrics.pairwise import cosine_similarity\n",
    "from nltk.tokenize import word_tokenize\n",
    "import numpy as np\n",
    "import textdistance\n",
    "\n",
    "\n",
    "def calculate_similarity(row):\n",
    "    \n",
    "    cosine_sim=cosine_similarity([row['embeddings_sentence1']], [row['embeddings_sentence2']])[0][0]\n",
    "    # Jaccard Similarity\n",
    "    words1 = set(word_tokenize(row['proc_sent1']))\n",
    "    words2 = set(word_tokenize(row['proc_sent2']))\n",
    "\n",
    "    intersection = words1.intersection(words2)\n",
    "    union = words1.union(words2)\n",
    "    jaccard_sim = float(len(intersection)) / (len(union)+0.00000001)\n",
    "\n",
    "    # Levenshtein Distance\n",
    "    levenshtein_dist = textdistance.levenshtein(row['proc_sent1'], row['proc_sent2'])\n",
    "    return cosine_sim, jaccard_sim, levenshtein_dist"
   ]
  },
  {
   "cell_type": "code",
   "execution_count": 58,
   "id": "3a6e8910",
   "metadata": {
    "ExecuteTime": {
     "end_time": "2023-04-28T04:36:57.043855Z",
     "start_time": "2023-04-28T04:36:50.712236Z"
    }
   },
   "outputs": [],
   "source": [
    "val = data.apply(lambda row: calculate_similarity(row), axis=1)\n",
    "list_values = [list(t) for t in val]\n",
    "column_names = ['cosine_sim', 'jaccard_sim', 'levenshtein_dist']\n",
    "new_df = pd.DataFrame(list_values, columns=column_names) "
   ]
  },
  {
   "cell_type": "code",
   "execution_count": 71,
   "id": "47e098ba",
   "metadata": {
    "ExecuteTime": {
     "end_time": "2023-04-28T04:51:49.596515Z",
     "start_time": "2023-04-28T04:51:49.591515Z"
    }
   },
   "outputs": [],
   "source": [
    "data=pd.concat([data,new_df],axis=1)"
   ]
  },
  {
   "cell_type": "code",
   "execution_count": 97,
   "id": "185d5f86",
   "metadata": {
    "ExecuteTime": {
     "end_time": "2023-04-28T05:22:45.697481Z",
     "start_time": "2023-04-28T05:22:45.605136Z"
    }
   },
   "outputs": [],
   "source": [
    "data['combined_features'] = data.apply(\n",
    "    lambda row: np.hstack((row['combined_embeddings'], row['cosine_sim'],row['jaccard_sim'],row['levenshtein_dist'])), axis=1)\n"
   ]
  },
  {
   "cell_type": "code",
   "execution_count": 99,
   "id": "1703a297",
   "metadata": {
    "ExecuteTime": {
     "end_time": "2023-04-28T05:23:16.153842Z",
     "start_time": "2023-04-28T05:23:16.099622Z"
    }
   },
   "outputs": [
    {
     "data": {
      "text/html": [
       "<div>\n",
       "<style scoped>\n",
       "    .dataframe tbody tr th:only-of-type {\n",
       "        vertical-align: middle;\n",
       "    }\n",
       "\n",
       "    .dataframe tbody tr th {\n",
       "        vertical-align: top;\n",
       "    }\n",
       "\n",
       "    .dataframe thead th {\n",
       "        text-align: right;\n",
       "    }\n",
       "</style>\n",
       "<table border=\"1\" class=\"dataframe\">\n",
       "  <thead>\n",
       "    <tr style=\"text-align: right;\">\n",
       "      <th></th>\n",
       "      <th>sentence1</th>\n",
       "      <th>sentence2</th>\n",
       "      <th>label</th>\n",
       "      <th>proc_sent1</th>\n",
       "      <th>proc_sent2</th>\n",
       "      <th>embeddings_sentence1</th>\n",
       "      <th>embeddings_sentence2</th>\n",
       "      <th>combined_embeddings</th>\n",
       "      <th>cosine_sim</th>\n",
       "      <th>jaccard_sim</th>\n",
       "      <th>levenshtein_dist</th>\n",
       "      <th>combined_features</th>\n",
       "    </tr>\n",
       "  </thead>\n",
       "  <tbody>\n",
       "    <tr>\n",
       "      <th>0</th>\n",
       "      <td>Male issues and I need a Male to talk to</td>\n",
       "      <td>I need a male to talk too</td>\n",
       "      <td>1</td>\n",
       "      <td>male issue need male talk</td>\n",
       "      <td>need male talk</td>\n",
       "      <td>[-0.03350903, 0.07108113, 1.3455219, 0.5637248...</td>\n",
       "      <td>[0.018803466, -0.012148427, 1.9551451, 0.56492...</td>\n",
       "      <td>[-0.014705565, 0.058932707, 3.300667, 1.128645...</td>\n",
       "      <td>0.962122</td>\n",
       "      <td>0.750000</td>\n",
       "      <td>11</td>\n",
       "      <td>[-0.014705564826726913, 0.05893270671367645, 3...</td>\n",
       "    </tr>\n",
       "    <tr>\n",
       "      <th>1</th>\n",
       "      <td>the past</td>\n",
       "      <td>i have bad feet, and i have to take jobs like ...</td>\n",
       "      <td>0</td>\n",
       "      <td>past</td>\n",
       "      <td>bad foot take job like door dash lyft grub hub...</td>\n",
       "      <td>[0.0040588663, -0.12999211, 2.2136116, 0.22531...</td>\n",
       "      <td>[0.10122915, 1.0644948, 0.59909374, 0.1839185,...</td>\n",
       "      <td>[0.10528802, 0.9345027, 2.8127053, 0.40923062,...</td>\n",
       "      <td>0.214481</td>\n",
       "      <td>0.000000</td>\n",
       "      <td>63</td>\n",
       "      <td>[0.10528802126646042, 0.9345027208328247, 2.81...</td>\n",
       "    </tr>\n",
       "    <tr>\n",
       "      <th>2</th>\n",
       "      <td>I feel like my gf is mad at me</td>\n",
       "      <td>I feel like I'm being deceived in some way by ...</td>\n",
       "      <td>1</td>\n",
       "      <td>feel like gf mad</td>\n",
       "      <td>feel like deceived way someone began dating ma...</td>\n",
       "      <td>[0.48517704, -0.12296127, 2.020929, 0.2776249,...</td>\n",
       "      <td>[0.04451518, 0.4803249, 0.963113, 0.18849412, ...</td>\n",
       "      <td>[0.52969223, 0.35736364, 2.9840422, 0.46611902...</td>\n",
       "      <td>0.526352</td>\n",
       "      <td>0.111111</td>\n",
       "      <td>93</td>\n",
       "      <td>[0.5296922326087952, 0.35736364126205444, 2.98...</td>\n",
       "    </tr>\n",
       "    <tr>\n",
       "      <th>3</th>\n",
       "      <td>feeling</td>\n",
       "      <td>i feel like nothing is real anymore</td>\n",
       "      <td>0</td>\n",
       "      <td>feeling</td>\n",
       "      <td>feel like nothing real anymore</td>\n",
       "      <td>[-0.09597687, -0.9879196, 2.6060772, 0.846855,...</td>\n",
       "      <td>[0.5703408, 0.2704484, 2.1174276, 0.04640493, ...</td>\n",
       "      <td>[0.47436395, -0.71747124, 4.723505, 0.89325994...</td>\n",
       "      <td>0.527320</td>\n",
       "      <td>0.000000</td>\n",
       "      <td>23</td>\n",
       "      <td>[0.47436395287513733, -0.7174712419509888, 4.7...</td>\n",
       "    </tr>\n",
       "    <tr>\n",
       "      <th>4</th>\n",
       "      <td>I love my boyfriend, soon to be husband. I jus...</td>\n",
       "      <td>I constantly think my kids would be better off...</td>\n",
       "      <td>0</td>\n",
       "      <td>love boyfriend soon husband think happy anynore</td>\n",
       "      <td>constantly think kid would better without</td>\n",
       "      <td>[-0.3272178, 0.46564952, 2.4937224, 0.43840873...</td>\n",
       "      <td>[-0.052636694, 0.41056067, 1.3571085, 0.071444...</td>\n",
       "      <td>[-0.37985447, 0.8762102, 3.850831, 0.50985295,...</td>\n",
       "      <td>0.411485</td>\n",
       "      <td>0.083333</td>\n",
       "      <td>40</td>\n",
       "      <td>[-0.3798544704914093, 0.8762102127075195, 3.85...</td>\n",
       "    </tr>\n",
       "    <tr>\n",
       "      <th>...</th>\n",
       "      <td>...</td>\n",
       "      <td>...</td>\n",
       "      <td>...</td>\n",
       "      <td>...</td>\n",
       "      <td>...</td>\n",
       "      <td>...</td>\n",
       "      <td>...</td>\n",
       "      <td>...</td>\n",
       "      <td>...</td>\n",
       "      <td>...</td>\n",
       "      <td>...</td>\n",
       "      <td>...</td>\n",
       "    </tr>\n",
       "    <tr>\n",
       "      <th>3995</th>\n",
       "      <td>relationship confusion</td>\n",
       "      <td>okboomer</td>\n",
       "      <td>0</td>\n",
       "      <td>relationship confusion</td>\n",
       "      <td>okboomer</td>\n",
       "      <td>[-0.012656743, 0.34704006, 1.7000375, 0.046574...</td>\n",
       "      <td>[-0.20120949, 0.5136952, 1.7885517, 0.16150445...</td>\n",
       "      <td>[-0.21386623, 0.86073524, 3.4885893, 0.2080789...</td>\n",
       "      <td>0.397363</td>\n",
       "      <td>0.000000</td>\n",
       "      <td>20</td>\n",
       "      <td>[-0.2138662338256836, 0.8607352375984192, 3.48...</td>\n",
       "    </tr>\n",
       "    <tr>\n",
       "      <th>3996</th>\n",
       "      <td>my life makes me feelhopeful</td>\n",
       "      <td>my relationship makes me feel __depressed__</td>\n",
       "      <td>0</td>\n",
       "      <td>life make feelhopeful</td>\n",
       "      <td>relationship make feel __depressed__</td>\n",
       "      <td>[0.078545794, -0.2169184, 2.392569, 0.6493329,...</td>\n",
       "      <td>[0.11857631, 0.18302812, 1.4769051, 0.11034703...</td>\n",
       "      <td>[0.1971221, -0.033890277, 3.8694742, 0.7596799...</td>\n",
       "      <td>0.502150</td>\n",
       "      <td>0.166667</td>\n",
       "      <td>22</td>\n",
       "      <td>[0.19712209701538086, -0.03389027714729309, 3....</td>\n",
       "    </tr>\n",
       "    <tr>\n",
       "      <th>3997</th>\n",
       "      <td>family</td>\n",
       "      <td>bored from quarantine</td>\n",
       "      <td>0</td>\n",
       "      <td>family</td>\n",
       "      <td>bored quarantine</td>\n",
       "      <td>[-0.21151088, -0.28410962, 2.0763443, -0.02894...</td>\n",
       "      <td>[0.1866005, 0.13393791, 1.6164118, 0.70627993,...</td>\n",
       "      <td>[-0.024910375, -0.15017171, 3.6927562, 0.67733...</td>\n",
       "      <td>0.361153</td>\n",
       "      <td>0.000000</td>\n",
       "      <td>14</td>\n",
       "      <td>[-0.024910375475883484, -0.15017171204090118, ...</td>\n",
       "    </tr>\n",
       "    <tr>\n",
       "      <th>3998</th>\n",
       "      <td>fighting with husband both drunk unresolved pa...</td>\n",
       "      <td>im not secure about my self because im over we...</td>\n",
       "      <td>0</td>\n",
       "      <td>fighting husband drunk unresolved past issue d...</td>\n",
       "      <td>im secure self im weight</td>\n",
       "      <td>[-0.33909604, 1.118972, 0.94716614, 0.09483159...</td>\n",
       "      <td>[0.21722113, -0.19138905, 1.3190721, 0.2770528...</td>\n",
       "      <td>[-0.12187491, 0.92758286, 2.2662382, 0.3718843...</td>\n",
       "      <td>-0.108543</td>\n",
       "      <td>0.000000</td>\n",
       "      <td>162</td>\n",
       "      <td>[-0.12187491357326508, 0.927582859992981, 2.26...</td>\n",
       "    </tr>\n",
       "    <tr>\n",
       "      <th>3999</th>\n",
       "      <td>idk</td>\n",
       "      <td>my family makes me feel</td>\n",
       "      <td>0</td>\n",
       "      <td>idk</td>\n",
       "      <td>family make feel</td>\n",
       "      <td>[0.12854868, 0.04459446, 1.6801069, 0.573375, ...</td>\n",
       "      <td>[0.20640942, 0.13528559, 2.230332, -0.01379574...</td>\n",
       "      <td>[0.3349581, 0.17988005, 3.9104388, 0.55957925,...</td>\n",
       "      <td>0.484661</td>\n",
       "      <td>0.000000</td>\n",
       "      <td>14</td>\n",
       "      <td>[0.33495810627937317, 0.1798800528049469, 3.91...</td>\n",
       "    </tr>\n",
       "  </tbody>\n",
       "</table>\n",
       "<p>4000 rows × 12 columns</p>\n",
       "</div>"
      ],
      "text/plain": [
       "                                              sentence1  \\\n",
       "0              Male issues and I need a Male to talk to   \n",
       "1                                              the past   \n",
       "2                        I feel like my gf is mad at me   \n",
       "3                                               feeling   \n",
       "4     I love my boyfriend, soon to be husband. I jus...   \n",
       "...                                                 ...   \n",
       "3995                             relationship confusion   \n",
       "3996                       my life makes me feelhopeful   \n",
       "3997                                             family   \n",
       "3998  fighting with husband both drunk unresolved pa...   \n",
       "3999                                                idk   \n",
       "\n",
       "                                              sentence2  label  \\\n",
       "0                             I need a male to talk too      1   \n",
       "1     i have bad feet, and i have to take jobs like ...      0   \n",
       "2     I feel like I'm being deceived in some way by ...      1   \n",
       "3                   i feel like nothing is real anymore      0   \n",
       "4     I constantly think my kids would be better off...      0   \n",
       "...                                                 ...    ...   \n",
       "3995                                           okboomer      0   \n",
       "3996        my relationship makes me feel __depressed__      0   \n",
       "3997                              bored from quarantine      0   \n",
       "3998  im not secure about my self because im over we...      0   \n",
       "3999                            my family makes me feel      0   \n",
       "\n",
       "                                             proc_sent1  \\\n",
       "0                             male issue need male talk   \n",
       "1                                                  past   \n",
       "2                                      feel like gf mad   \n",
       "3                                               feeling   \n",
       "4       love boyfriend soon husband think happy anynore   \n",
       "...                                                 ...   \n",
       "3995                             relationship confusion   \n",
       "3996                              life make feelhopeful   \n",
       "3997                                             family   \n",
       "3998  fighting husband drunk unresolved past issue d...   \n",
       "3999                                                idk   \n",
       "\n",
       "                                             proc_sent2  \\\n",
       "0                                        need male talk   \n",
       "1     bad foot take job like door dash lyft grub hub...   \n",
       "2     feel like deceived way someone began dating ma...   \n",
       "3                        feel like nothing real anymore   \n",
       "4             constantly think kid would better without   \n",
       "...                                                 ...   \n",
       "3995                                           okboomer   \n",
       "3996               relationship make feel __depressed__   \n",
       "3997                                   bored quarantine   \n",
       "3998                           im secure self im weight   \n",
       "3999                                   family make feel   \n",
       "\n",
       "                                   embeddings_sentence1  \\\n",
       "0     [-0.03350903, 0.07108113, 1.3455219, 0.5637248...   \n",
       "1     [0.0040588663, -0.12999211, 2.2136116, 0.22531...   \n",
       "2     [0.48517704, -0.12296127, 2.020929, 0.2776249,...   \n",
       "3     [-0.09597687, -0.9879196, 2.6060772, 0.846855,...   \n",
       "4     [-0.3272178, 0.46564952, 2.4937224, 0.43840873...   \n",
       "...                                                 ...   \n",
       "3995  [-0.012656743, 0.34704006, 1.7000375, 0.046574...   \n",
       "3996  [0.078545794, -0.2169184, 2.392569, 0.6493329,...   \n",
       "3997  [-0.21151088, -0.28410962, 2.0763443, -0.02894...   \n",
       "3998  [-0.33909604, 1.118972, 0.94716614, 0.09483159...   \n",
       "3999  [0.12854868, 0.04459446, 1.6801069, 0.573375, ...   \n",
       "\n",
       "                                   embeddings_sentence2  \\\n",
       "0     [0.018803466, -0.012148427, 1.9551451, 0.56492...   \n",
       "1     [0.10122915, 1.0644948, 0.59909374, 0.1839185,...   \n",
       "2     [0.04451518, 0.4803249, 0.963113, 0.18849412, ...   \n",
       "3     [0.5703408, 0.2704484, 2.1174276, 0.04640493, ...   \n",
       "4     [-0.052636694, 0.41056067, 1.3571085, 0.071444...   \n",
       "...                                                 ...   \n",
       "3995  [-0.20120949, 0.5136952, 1.7885517, 0.16150445...   \n",
       "3996  [0.11857631, 0.18302812, 1.4769051, 0.11034703...   \n",
       "3997  [0.1866005, 0.13393791, 1.6164118, 0.70627993,...   \n",
       "3998  [0.21722113, -0.19138905, 1.3190721, 0.2770528...   \n",
       "3999  [0.20640942, 0.13528559, 2.230332, -0.01379574...   \n",
       "\n",
       "                                    combined_embeddings  cosine_sim  \\\n",
       "0     [-0.014705565, 0.058932707, 3.300667, 1.128645...    0.962122   \n",
       "1     [0.10528802, 0.9345027, 2.8127053, 0.40923062,...    0.214481   \n",
       "2     [0.52969223, 0.35736364, 2.9840422, 0.46611902...    0.526352   \n",
       "3     [0.47436395, -0.71747124, 4.723505, 0.89325994...    0.527320   \n",
       "4     [-0.37985447, 0.8762102, 3.850831, 0.50985295,...    0.411485   \n",
       "...                                                 ...         ...   \n",
       "3995  [-0.21386623, 0.86073524, 3.4885893, 0.2080789...    0.397363   \n",
       "3996  [0.1971221, -0.033890277, 3.8694742, 0.7596799...    0.502150   \n",
       "3997  [-0.024910375, -0.15017171, 3.6927562, 0.67733...    0.361153   \n",
       "3998  [-0.12187491, 0.92758286, 2.2662382, 0.3718843...   -0.108543   \n",
       "3999  [0.3349581, 0.17988005, 3.9104388, 0.55957925,...    0.484661   \n",
       "\n",
       "      jaccard_sim  levenshtein_dist  \\\n",
       "0        0.750000                11   \n",
       "1        0.000000                63   \n",
       "2        0.111111                93   \n",
       "3        0.000000                23   \n",
       "4        0.083333                40   \n",
       "...           ...               ...   \n",
       "3995     0.000000                20   \n",
       "3996     0.166667                22   \n",
       "3997     0.000000                14   \n",
       "3998     0.000000               162   \n",
       "3999     0.000000                14   \n",
       "\n",
       "                                      combined_features  \n",
       "0     [-0.014705564826726913, 0.05893270671367645, 3...  \n",
       "1     [0.10528802126646042, 0.9345027208328247, 2.81...  \n",
       "2     [0.5296922326087952, 0.35736364126205444, 2.98...  \n",
       "3     [0.47436395287513733, -0.7174712419509888, 4.7...  \n",
       "4     [-0.3798544704914093, 0.8762102127075195, 3.85...  \n",
       "...                                                 ...  \n",
       "3995  [-0.2138662338256836, 0.8607352375984192, 3.48...  \n",
       "3996  [0.19712209701538086, -0.03389027714729309, 3....  \n",
       "3997  [-0.024910375475883484, -0.15017171204090118, ...  \n",
       "3998  [-0.12187491357326508, 0.927582859992981, 2.26...  \n",
       "3999  [0.33495810627937317, 0.1798800528049469, 3.91...  \n",
       "\n",
       "[4000 rows x 12 columns]"
      ]
     },
     "execution_count": 99,
     "metadata": {},
     "output_type": "execute_result"
    }
   ],
   "source": [
    "data"
   ]
  },
  {
   "cell_type": "code",
   "execution_count": 134,
   "id": "d376ae49",
   "metadata": {
    "ExecuteTime": {
     "end_time": "2023-04-28T05:32:53.692167Z",
     "start_time": "2023-04-28T05:32:53.680080Z"
    }
   },
   "outputs": [],
   "source": [
    ",#Split and Train the sentences\n",
    "X = data[['cosine_sim','jaccard_sim']]\n",
    "y = data['label']\n",
    "X_train, X_test, y_train, y_test = train_test_split(X, y, test_size=0.2, random_state=50, stratify=y)"
   ]
  },
  {
   "cell_type": "code",
   "execution_count": 135,
   "id": "7944a66e",
   "metadata": {
    "ExecuteTime": {
     "end_time": "2023-04-28T05:32:54.049084Z",
     "start_time": "2023-04-28T05:32:54.035204Z"
    }
   },
   "outputs": [],
   "source": [
    "X_train_arr = np.vstack(X_train.values)\n",
    "X_test_arr = np.vstack(X_test.values)"
   ]
  },
  {
   "cell_type": "code",
   "execution_count": 138,
   "id": "77f4e89f",
   "metadata": {
    "ExecuteTime": {
     "end_time": "2023-04-28T05:33:12.937273Z",
     "start_time": "2023-04-28T05:33:12.725719Z"
    }
   },
   "outputs": [
    {
     "data": {
      "text/html": [
       "<style>#sk-container-id-13 {color: black;background-color: white;}#sk-container-id-13 pre{padding: 0;}#sk-container-id-13 div.sk-toggleable {background-color: white;}#sk-container-id-13 label.sk-toggleable__label {cursor: pointer;display: block;width: 100%;margin-bottom: 0;padding: 0.3em;box-sizing: border-box;text-align: center;}#sk-container-id-13 label.sk-toggleable__label-arrow:before {content: \"▸\";float: left;margin-right: 0.25em;color: #696969;}#sk-container-id-13 label.sk-toggleable__label-arrow:hover:before {color: black;}#sk-container-id-13 div.sk-estimator:hover label.sk-toggleable__label-arrow:before {color: black;}#sk-container-id-13 div.sk-toggleable__content {max-height: 0;max-width: 0;overflow: hidden;text-align: left;background-color: #f0f8ff;}#sk-container-id-13 div.sk-toggleable__content pre {margin: 0.2em;color: black;border-radius: 0.25em;background-color: #f0f8ff;}#sk-container-id-13 input.sk-toggleable__control:checked~div.sk-toggleable__content {max-height: 200px;max-width: 100%;overflow: auto;}#sk-container-id-13 input.sk-toggleable__control:checked~label.sk-toggleable__label-arrow:before {content: \"▾\";}#sk-container-id-13 div.sk-estimator input.sk-toggleable__control:checked~label.sk-toggleable__label {background-color: #d4ebff;}#sk-container-id-13 div.sk-label input.sk-toggleable__control:checked~label.sk-toggleable__label {background-color: #d4ebff;}#sk-container-id-13 input.sk-hidden--visually {border: 0;clip: rect(1px 1px 1px 1px);clip: rect(1px, 1px, 1px, 1px);height: 1px;margin: -1px;overflow: hidden;padding: 0;position: absolute;width: 1px;}#sk-container-id-13 div.sk-estimator {font-family: monospace;background-color: #f0f8ff;border: 1px dotted black;border-radius: 0.25em;box-sizing: border-box;margin-bottom: 0.5em;}#sk-container-id-13 div.sk-estimator:hover {background-color: #d4ebff;}#sk-container-id-13 div.sk-parallel-item::after {content: \"\";width: 100%;border-bottom: 1px solid gray;flex-grow: 1;}#sk-container-id-13 div.sk-label:hover label.sk-toggleable__label {background-color: #d4ebff;}#sk-container-id-13 div.sk-serial::before {content: \"\";position: absolute;border-left: 1px solid gray;box-sizing: border-box;top: 0;bottom: 0;left: 50%;z-index: 0;}#sk-container-id-13 div.sk-serial {display: flex;flex-direction: column;align-items: center;background-color: white;padding-right: 0.2em;padding-left: 0.2em;position: relative;}#sk-container-id-13 div.sk-item {position: relative;z-index: 1;}#sk-container-id-13 div.sk-parallel {display: flex;align-items: stretch;justify-content: center;background-color: white;position: relative;}#sk-container-id-13 div.sk-item::before, #sk-container-id-13 div.sk-parallel-item::before {content: \"\";position: absolute;border-left: 1px solid gray;box-sizing: border-box;top: 0;bottom: 0;left: 50%;z-index: -1;}#sk-container-id-13 div.sk-parallel-item {display: flex;flex-direction: column;z-index: 1;position: relative;background-color: white;}#sk-container-id-13 div.sk-parallel-item:first-child::after {align-self: flex-end;width: 50%;}#sk-container-id-13 div.sk-parallel-item:last-child::after {align-self: flex-start;width: 50%;}#sk-container-id-13 div.sk-parallel-item:only-child::after {width: 0;}#sk-container-id-13 div.sk-dashed-wrapped {border: 1px dashed gray;margin: 0 0.4em 0.5em 0.4em;box-sizing: border-box;padding-bottom: 0.4em;background-color: white;}#sk-container-id-13 div.sk-label label {font-family: monospace;font-weight: bold;display: inline-block;line-height: 1.2em;}#sk-container-id-13 div.sk-label-container {text-align: center;}#sk-container-id-13 div.sk-container {/* jupyter's `normalize.less` sets `[hidden] { display: none; }` but bootstrap.min.css set `[hidden] { display: none !important; }` so we also need the `!important` here to be able to override the default hidden behavior on the sphinx rendered scikit-learn.org. See: https://github.com/scikit-learn/scikit-learn/issues/21755 */display: inline-block !important;position: relative;}#sk-container-id-13 div.sk-text-repr-fallback {display: none;}</style><div id=\"sk-container-id-13\" class=\"sk-top-container\"><div class=\"sk-text-repr-fallback\"><pre>SVC(degree=2)</pre><b>In a Jupyter environment, please rerun this cell to show the HTML representation or trust the notebook. <br />On GitHub, the HTML representation is unable to render, please try loading this page with nbviewer.org.</b></div><div class=\"sk-container\" hidden><div class=\"sk-item\"><div class=\"sk-estimator sk-toggleable\"><input class=\"sk-toggleable__control sk-hidden--visually\" id=\"sk-estimator-id-13\" type=\"checkbox\" checked><label for=\"sk-estimator-id-13\" class=\"sk-toggleable__label sk-toggleable__label-arrow\">SVC</label><div class=\"sk-toggleable__content\"><pre>SVC(degree=2)</pre></div></div></div></div></div>"
      ],
      "text/plain": [
       "SVC(degree=2)"
      ]
     },
     "execution_count": 138,
     "metadata": {},
     "output_type": "execute_result"
    }
   ],
   "source": [
    "from sklearn.svm import SVC\n",
    "from sklearn.preprocessing import StandardScaler\n",
    "scaler = StandardScaler()\n",
    "X_train_scaled = scaler.fit_transform(X_train_arr)\n",
    "X_test_scaled = scaler.transform(X_test_arr)\n",
    "# Create an SVM model with a specified kernel (e.g., 'linear', 'poly', 'rbf', or 'sigmoid')\n",
    "clf = SVC(kernel='rbf',degree= 2)\n",
    "\n",
    "# Fit the model to the training data\n",
    "clf.fit(X_train_scaled, y_train)"
   ]
  },
  {
   "cell_type": "code",
   "execution_count": 139,
   "id": "84148f8f",
   "metadata": {
    "ExecuteTime": {
     "end_time": "2023-04-28T05:33:16.377709Z",
     "start_time": "2023-04-28T05:33:16.313791Z"
    }
   },
   "outputs": [
    {
     "name": "stdout",
     "output_type": "stream",
     "text": [
      "Accuracy: 0.82\n",
      "Classification Report:\n",
      "              precision    recall  f1-score   support\n",
      "\n",
      "           0       0.82      0.97      0.89       590\n",
      "           1       0.82      0.40      0.54       210\n",
      "\n",
      "    accuracy                           0.82       800\n",
      "   macro avg       0.82      0.68      0.71       800\n",
      "weighted avg       0.82      0.82      0.80       800\n",
      "\n"
     ]
    }
   ],
   "source": [
    "from sklearn.metrics import classification_report, accuracy_score\n",
    "\n",
    "y_pred = clf.predict(X_test_scaled)\n",
    "\n",
    "print(\"Accuracy:\", accuracy_score(y_test, y_pred))\n",
    "print(\"Classification Report:\")\n",
    "print(classification_report(y_test, y_pred))"
   ]
  },
  {
   "cell_type": "code",
   "execution_count": null,
   "id": "45819254",
   "metadata": {
    "ExecuteTime": {
     "start_time": "2023-04-28T05:50:41.603Z"
    }
   },
   "outputs": [
    {
     "name": "stdout",
     "output_type": "stream",
     "text": [
      "Fitting 2 folds for each of 4200 candidates, totalling 8400 fits\n"
     ]
    }
   ],
   "source": [
    "from sklearn.model_selection import GridSearchCV\n",
    "\n",
    "param_grid = {\n",
    "    'kernel': ['linear', 'poly', 'rbf', 'sigmoid'],\n",
    "    'C': np.logspace(-4, 4, 10),\n",
    "    'degree': [2, 3, 4],\n",
    "    'gamma': ['scale', 'auto'] + list(np.logspace(-4, 4, 5)),\n",
    "    'coef0': list(np.linspace(-1, 1, 5)),\n",
    "}\n",
    "\n",
    "# param_grid = {\n",
    "#     'kernel': ['linear', 'poly', 'rbf', 'sigmoid'],\n",
    "#     'degree': [2, 3, 4],\n",
    "# }\n",
    "\n",
    "\n",
    "# Create the SVM model\n",
    "svm = SVC()\n",
    "\n",
    "# Perform grid search with cross-validation\n",
    "grid_search = GridSearchCV(svm, param_grid, scoring='accuracy', cv=2, verbose=1, n_jobs=-1)\n",
    "grid_search.fit(X_train_scaled, y_train)\n",
    "\n",
    "# Show the best parameters found\n",
    "print(\"Best Parameters:\")\n",
    "print(grid_search.best_params_)\n",
    "\n",
    "# Evaluate the model with the best hyperparameters on the test data\n",
    "y_pred = grid_search.best_estimator_.predict(X_test_scaled)\n",
    "\n",
    "print(\"Accuracy:\", accuracy_score(y_test, y_pred))\n",
    "print(\"Classification Report:\")\n",
    "print(classification_report(y_test, y_pred))"
   ]
  },
  {
   "cell_type": "code",
   "execution_count": null,
   "id": "ac0653b9",
   "metadata": {},
   "outputs": [],
   "source": []
  }
 ],
 "metadata": {
  "kernelspec": {
   "display_name": "pytorch-cuda-env",
   "language": "python",
   "name": "pytorch-cuda-env"
  },
  "language_info": {
   "codemirror_mode": {
    "name": "ipython",
    "version": 3
   },
   "file_extension": ".py",
   "mimetype": "text/x-python",
   "name": "python",
   "nbconvert_exporter": "python",
   "pygments_lexer": "ipython3",
   "version": "3.8.0"
  },
  "varInspector": {
   "cols": {
    "lenName": 16,
    "lenType": 16,
    "lenVar": 40
   },
   "kernels_config": {
    "python": {
     "delete_cmd_postfix": "",
     "delete_cmd_prefix": "del ",
     "library": "var_list.py",
     "varRefreshCmd": "print(var_dic_list())"
    },
    "r": {
     "delete_cmd_postfix": ") ",
     "delete_cmd_prefix": "rm(",
     "library": "var_list.r",
     "varRefreshCmd": "cat(var_dic_list()) "
    }
   },
   "types_to_exclude": [
    "module",
    "function",
    "builtin_function_or_method",
    "instance",
    "_Feature"
   ],
   "window_display": false
  }
 },
 "nbformat": 4,
 "nbformat_minor": 5
}
